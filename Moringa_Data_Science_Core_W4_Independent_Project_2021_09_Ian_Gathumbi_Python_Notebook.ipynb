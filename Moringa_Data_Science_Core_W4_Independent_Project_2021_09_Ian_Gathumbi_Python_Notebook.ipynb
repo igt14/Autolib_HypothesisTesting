{
  "nbformat": 4,
  "nbformat_minor": 0,
  "metadata": {
    "colab": {
      "name": "Moringa_Data_Science_Core_W4_Independent_Project_2021_09_Ian_Gathumbi_Python_Notebook",
      "provenance": [],
      "collapsed_sections": [],
      "authorship_tag": "ABX9TyOFwK7Gygo6hS5e0U/BeehZ",
      "include_colab_link": true
    },
    "kernelspec": {
      "name": "python3",
      "display_name": "Python 3"
    },
    "language_info": {
      "name": "python"
    }
  },
  "cells": [
    {
      "cell_type": "markdown",
      "metadata": {
        "id": "view-in-github",
        "colab_type": "text"
      },
      "source": [
        "<a href=\"https://colab.research.google.com/github/igt14/Autolib_HypothesisTesting/blob/main/Moringa_Data_Science_Core_W4_Independent_Project_2021_09_Ian_Gathumbi_Python_Notebook.ipynb\" target=\"_parent\"><img src=\"https://colab.research.google.com/assets/colab-badge.svg\" alt=\"Open In Colab\"/></a>"
      ]
    },
    {
      "cell_type": "code",
      "metadata": {
        "id": "oqzncMyrLaxM"
      },
      "source": [
        "# Importing the libraries that we will need\n",
        "import pandas as pd\n",
        "import numpy as np\n",
        "import matplotlib.pyplot as plt\n",
        "import seaborn as sns\n",
        "import scipy.stats as stats"
      ],
      "execution_count": 48,
      "outputs": []
    },
    {
      "cell_type": "markdown",
      "metadata": {
        "id": "H2ltkOVtLI0K"
      },
      "source": [
        "# 1.1 Loading the data"
      ]
    },
    {
      "cell_type": "code",
      "metadata": {
        "id": "yqGcrZ_-LRuB"
      },
      "source": [
        "# Loading the Data from the source \n",
        "# Dataset url = http://bit.ly/DSCoreAutolibDataset\n",
        "autolib = pd.read_csv('http://bit.ly/DSCoreAutolibDataset')"
      ],
      "execution_count": 2,
      "outputs": []
    },
    {
      "cell_type": "markdown",
      "metadata": {
        "id": "sV8JT_YdL_si"
      },
      "source": [
        "# 1.2 Checking the data"
      ]
    },
    {
      "cell_type": "code",
      "metadata": {
        "colab": {
          "base_uri": "https://localhost:8080/"
        },
        "id": "M23evf99MC6Z",
        "outputId": "a36803cd-a63e-4639-cc58-10a1196a404c"
      },
      "source": [
        "# Determining the no. of records in our dataset\n",
        "autolib.shape"
      ],
      "execution_count": 3,
      "outputs": [
        {
          "output_type": "execute_result",
          "data": {
            "text/plain": [
              "(16085, 13)"
            ]
          },
          "metadata": {},
          "execution_count": 3
        }
      ]
    },
    {
      "cell_type": "code",
      "metadata": {
        "colab": {
          "base_uri": "https://localhost:8080/"
        },
        "id": "eUCgRBZhOcT5",
        "outputId": "af8b947e-26c2-4dca-bffc-08720126c774"
      },
      "source": [
        "# Accessing information about our dataset\n",
        "autolib.info()"
      ],
      "execution_count": 4,
      "outputs": [
        {
          "output_type": "stream",
          "name": "stdout",
          "text": [
            "<class 'pandas.core.frame.DataFrame'>\n",
            "RangeIndex: 16085 entries, 0 to 16084\n",
            "Data columns (total 13 columns):\n",
            " #   Column                  Non-Null Count  Dtype \n",
            "---  ------                  --------------  ----- \n",
            " 0   Postal code             16085 non-null  int64 \n",
            " 1   date                    16085 non-null  object\n",
            " 2   n_daily_data_points     16085 non-null  int64 \n",
            " 3   dayOfWeek               16085 non-null  int64 \n",
            " 4   day_type                16085 non-null  object\n",
            " 5   BlueCars_taken_sum      16085 non-null  int64 \n",
            " 6   BlueCars_returned_sum   16085 non-null  int64 \n",
            " 7   Utilib_taken_sum        16085 non-null  int64 \n",
            " 8   Utilib_returned_sum     16085 non-null  int64 \n",
            " 9   Utilib_14_taken_sum     16085 non-null  int64 \n",
            " 10  Utilib_14_returned_sum  16085 non-null  int64 \n",
            " 11  Slots_freed_sum         16085 non-null  int64 \n",
            " 12  Slots_taken_sum         16085 non-null  int64 \n",
            "dtypes: int64(11), object(2)\n",
            "memory usage: 1.6+ MB\n"
          ]
        }
      ]
    },
    {
      "cell_type": "code",
      "metadata": {
        "colab": {
          "base_uri": "https://localhost:8080/",
          "height": 241
        },
        "id": "ao4dKRmKNsK7",
        "outputId": "e8f00bf4-8c60-475f-cdb3-08267acfd413"
      },
      "source": [
        "# Previewing the top of our dataset\n",
        "autolib.head()"
      ],
      "execution_count": 5,
      "outputs": [
        {
          "output_type": "execute_result",
          "data": {
            "text/html": [
              "<div>\n",
              "<style scoped>\n",
              "    .dataframe tbody tr th:only-of-type {\n",
              "        vertical-align: middle;\n",
              "    }\n",
              "\n",
              "    .dataframe tbody tr th {\n",
              "        vertical-align: top;\n",
              "    }\n",
              "\n",
              "    .dataframe thead th {\n",
              "        text-align: right;\n",
              "    }\n",
              "</style>\n",
              "<table border=\"1\" class=\"dataframe\">\n",
              "  <thead>\n",
              "    <tr style=\"text-align: right;\">\n",
              "      <th></th>\n",
              "      <th>Postal code</th>\n",
              "      <th>date</th>\n",
              "      <th>n_daily_data_points</th>\n",
              "      <th>dayOfWeek</th>\n",
              "      <th>day_type</th>\n",
              "      <th>BlueCars_taken_sum</th>\n",
              "      <th>BlueCars_returned_sum</th>\n",
              "      <th>Utilib_taken_sum</th>\n",
              "      <th>Utilib_returned_sum</th>\n",
              "      <th>Utilib_14_taken_sum</th>\n",
              "      <th>Utilib_14_returned_sum</th>\n",
              "      <th>Slots_freed_sum</th>\n",
              "      <th>Slots_taken_sum</th>\n",
              "    </tr>\n",
              "  </thead>\n",
              "  <tbody>\n",
              "    <tr>\n",
              "      <th>0</th>\n",
              "      <td>75001</td>\n",
              "      <td>1/1/2018</td>\n",
              "      <td>1440</td>\n",
              "      <td>0</td>\n",
              "      <td>weekday</td>\n",
              "      <td>110</td>\n",
              "      <td>103</td>\n",
              "      <td>3</td>\n",
              "      <td>2</td>\n",
              "      <td>10</td>\n",
              "      <td>9</td>\n",
              "      <td>22</td>\n",
              "      <td>20</td>\n",
              "    </tr>\n",
              "    <tr>\n",
              "      <th>1</th>\n",
              "      <td>75001</td>\n",
              "      <td>1/2/2018</td>\n",
              "      <td>1438</td>\n",
              "      <td>1</td>\n",
              "      <td>weekday</td>\n",
              "      <td>98</td>\n",
              "      <td>94</td>\n",
              "      <td>1</td>\n",
              "      <td>1</td>\n",
              "      <td>8</td>\n",
              "      <td>8</td>\n",
              "      <td>23</td>\n",
              "      <td>22</td>\n",
              "    </tr>\n",
              "    <tr>\n",
              "      <th>2</th>\n",
              "      <td>75001</td>\n",
              "      <td>1/3/2018</td>\n",
              "      <td>1439</td>\n",
              "      <td>2</td>\n",
              "      <td>weekday</td>\n",
              "      <td>138</td>\n",
              "      <td>139</td>\n",
              "      <td>0</td>\n",
              "      <td>0</td>\n",
              "      <td>2</td>\n",
              "      <td>2</td>\n",
              "      <td>27</td>\n",
              "      <td>27</td>\n",
              "    </tr>\n",
              "    <tr>\n",
              "      <th>3</th>\n",
              "      <td>75001</td>\n",
              "      <td>1/4/2018</td>\n",
              "      <td>1320</td>\n",
              "      <td>3</td>\n",
              "      <td>weekday</td>\n",
              "      <td>104</td>\n",
              "      <td>104</td>\n",
              "      <td>2</td>\n",
              "      <td>2</td>\n",
              "      <td>9</td>\n",
              "      <td>8</td>\n",
              "      <td>25</td>\n",
              "      <td>21</td>\n",
              "    </tr>\n",
              "    <tr>\n",
              "      <th>4</th>\n",
              "      <td>75001</td>\n",
              "      <td>1/5/2018</td>\n",
              "      <td>1440</td>\n",
              "      <td>4</td>\n",
              "      <td>weekday</td>\n",
              "      <td>114</td>\n",
              "      <td>117</td>\n",
              "      <td>3</td>\n",
              "      <td>3</td>\n",
              "      <td>6</td>\n",
              "      <td>6</td>\n",
              "      <td>18</td>\n",
              "      <td>20</td>\n",
              "    </tr>\n",
              "  </tbody>\n",
              "</table>\n",
              "</div>"
            ],
            "text/plain": [
              "   Postal code      date  ...  Slots_freed_sum  Slots_taken_sum\n",
              "0        75001  1/1/2018  ...               22               20\n",
              "1        75001  1/2/2018  ...               23               22\n",
              "2        75001  1/3/2018  ...               27               27\n",
              "3        75001  1/4/2018  ...               25               21\n",
              "4        75001  1/5/2018  ...               18               20\n",
              "\n",
              "[5 rows x 13 columns]"
            ]
          },
          "metadata": {},
          "execution_count": 5
        }
      ]
    },
    {
      "cell_type": "code",
      "metadata": {
        "colab": {
          "base_uri": "https://localhost:8080/",
          "height": 241
        },
        "id": "ZmFuh7geN0M9",
        "outputId": "fd0e0a15-9d4c-4998-be02-2181abee863c"
      },
      "source": [
        "# Previewing the bottom of our datasest\n",
        "autolib.tail()"
      ],
      "execution_count": 6,
      "outputs": [
        {
          "output_type": "execute_result",
          "data": {
            "text/html": [
              "<div>\n",
              "<style scoped>\n",
              "    .dataframe tbody tr th:only-of-type {\n",
              "        vertical-align: middle;\n",
              "    }\n",
              "\n",
              "    .dataframe tbody tr th {\n",
              "        vertical-align: top;\n",
              "    }\n",
              "\n",
              "    .dataframe thead th {\n",
              "        text-align: right;\n",
              "    }\n",
              "</style>\n",
              "<table border=\"1\" class=\"dataframe\">\n",
              "  <thead>\n",
              "    <tr style=\"text-align: right;\">\n",
              "      <th></th>\n",
              "      <th>Postal code</th>\n",
              "      <th>date</th>\n",
              "      <th>n_daily_data_points</th>\n",
              "      <th>dayOfWeek</th>\n",
              "      <th>day_type</th>\n",
              "      <th>BlueCars_taken_sum</th>\n",
              "      <th>BlueCars_returned_sum</th>\n",
              "      <th>Utilib_taken_sum</th>\n",
              "      <th>Utilib_returned_sum</th>\n",
              "      <th>Utilib_14_taken_sum</th>\n",
              "      <th>Utilib_14_returned_sum</th>\n",
              "      <th>Slots_freed_sum</th>\n",
              "      <th>Slots_taken_sum</th>\n",
              "    </tr>\n",
              "  </thead>\n",
              "  <tbody>\n",
              "    <tr>\n",
              "      <th>16080</th>\n",
              "      <td>95880</td>\n",
              "      <td>6/15/2018</td>\n",
              "      <td>1440</td>\n",
              "      <td>4</td>\n",
              "      <td>weekday</td>\n",
              "      <td>15</td>\n",
              "      <td>10</td>\n",
              "      <td>0</td>\n",
              "      <td>0</td>\n",
              "      <td>2</td>\n",
              "      <td>3</td>\n",
              "      <td>0</td>\n",
              "      <td>0</td>\n",
              "    </tr>\n",
              "    <tr>\n",
              "      <th>16081</th>\n",
              "      <td>95880</td>\n",
              "      <td>6/16/2018</td>\n",
              "      <td>1440</td>\n",
              "      <td>5</td>\n",
              "      <td>weekend</td>\n",
              "      <td>19</td>\n",
              "      <td>19</td>\n",
              "      <td>0</td>\n",
              "      <td>0</td>\n",
              "      <td>2</td>\n",
              "      <td>1</td>\n",
              "      <td>0</td>\n",
              "      <td>0</td>\n",
              "    </tr>\n",
              "    <tr>\n",
              "      <th>16082</th>\n",
              "      <td>95880</td>\n",
              "      <td>6/17/2018</td>\n",
              "      <td>1440</td>\n",
              "      <td>6</td>\n",
              "      <td>weekend</td>\n",
              "      <td>33</td>\n",
              "      <td>35</td>\n",
              "      <td>1</td>\n",
              "      <td>1</td>\n",
              "      <td>0</td>\n",
              "      <td>0</td>\n",
              "      <td>0</td>\n",
              "      <td>0</td>\n",
              "    </tr>\n",
              "    <tr>\n",
              "      <th>16083</th>\n",
              "      <td>95880</td>\n",
              "      <td>6/18/2018</td>\n",
              "      <td>1440</td>\n",
              "      <td>0</td>\n",
              "      <td>weekday</td>\n",
              "      <td>11</td>\n",
              "      <td>14</td>\n",
              "      <td>3</td>\n",
              "      <td>5</td>\n",
              "      <td>2</td>\n",
              "      <td>2</td>\n",
              "      <td>0</td>\n",
              "      <td>0</td>\n",
              "    </tr>\n",
              "    <tr>\n",
              "      <th>16084</th>\n",
              "      <td>95880</td>\n",
              "      <td>6/19/2018</td>\n",
              "      <td>1370</td>\n",
              "      <td>1</td>\n",
              "      <td>weekday</td>\n",
              "      <td>2</td>\n",
              "      <td>2</td>\n",
              "      <td>2</td>\n",
              "      <td>1</td>\n",
              "      <td>0</td>\n",
              "      <td>0</td>\n",
              "      <td>0</td>\n",
              "      <td>0</td>\n",
              "    </tr>\n",
              "  </tbody>\n",
              "</table>\n",
              "</div>"
            ],
            "text/plain": [
              "       Postal code       date  ...  Slots_freed_sum  Slots_taken_sum\n",
              "16080        95880  6/15/2018  ...                0                0\n",
              "16081        95880  6/16/2018  ...                0                0\n",
              "16082        95880  6/17/2018  ...                0                0\n",
              "16083        95880  6/18/2018  ...                0                0\n",
              "16084        95880  6/19/2018  ...                0                0\n",
              "\n",
              "[5 rows x 13 columns]"
            ]
          },
          "metadata": {},
          "execution_count": 6
        }
      ]
    },
    {
      "cell_type": "markdown",
      "metadata": {
        "id": "S5NUh5FyOzGp"
      },
      "source": [
        "# 1.3 Cleaning the data"
      ]
    },
    {
      "cell_type": "markdown",
      "metadata": {
        "id": "hJKLcRKdSvDi"
      },
      "source": [
        "## 1.3.1 Missing values"
      ]
    },
    {
      "cell_type": "code",
      "metadata": {
        "colab": {
          "base_uri": "https://localhost:8080/"
        },
        "id": "k_uQ5McWS_Tk",
        "outputId": "f4db011a-56e3-49d7-9dea-2f7cf3cac098"
      },
      "source": [
        "# Checking for missing values\n",
        "autolib.isnull().any()"
      ],
      "execution_count": 7,
      "outputs": [
        {
          "output_type": "execute_result",
          "data": {
            "text/plain": [
              "Postal code               False\n",
              "date                      False\n",
              "n_daily_data_points       False\n",
              "dayOfWeek                 False\n",
              "day_type                  False\n",
              "BlueCars_taken_sum        False\n",
              "BlueCars_returned_sum     False\n",
              "Utilib_taken_sum          False\n",
              "Utilib_returned_sum       False\n",
              "Utilib_14_taken_sum       False\n",
              "Utilib_14_returned_sum    False\n",
              "Slots_freed_sum           False\n",
              "Slots_taken_sum           False\n",
              "dtype: bool"
            ]
          },
          "metadata": {},
          "execution_count": 7
        }
      ]
    },
    {
      "cell_type": "markdown",
      "metadata": {
        "id": "WddAATgITedY"
      },
      "source": [
        "## 1.3.2 Duplicates"
      ]
    },
    {
      "cell_type": "code",
      "metadata": {
        "colab": {
          "base_uri": "https://localhost:8080/"
        },
        "id": "hHtL_Y-jTiyG",
        "outputId": "1d1472dc-83f7-4dea-9af0-c0fec57f56f4"
      },
      "source": [
        "# Checking for duplicates\n",
        "autolib.duplicated().any()"
      ],
      "execution_count": 8,
      "outputs": [
        {
          "output_type": "execute_result",
          "data": {
            "text/plain": [
              "False"
            ]
          },
          "metadata": {},
          "execution_count": 8
        }
      ]
    },
    {
      "cell_type": "markdown",
      "metadata": {
        "id": "yKhDWWWETzlm"
      },
      "source": [
        "## 1.3.3 Column types"
      ]
    },
    {
      "cell_type": "code",
      "metadata": {
        "colab": {
          "base_uri": "https://localhost:8080/"
        },
        "id": "78pcpVw_T74Y",
        "outputId": "bbb5fea6-da74-4ecc-b03a-4c7eb8c44e2a"
      },
      "source": [
        "# Checking column types\n",
        "autolib.dtypes"
      ],
      "execution_count": 9,
      "outputs": [
        {
          "output_type": "execute_result",
          "data": {
            "text/plain": [
              "Postal code                int64\n",
              "date                      object\n",
              "n_daily_data_points        int64\n",
              "dayOfWeek                  int64\n",
              "day_type                  object\n",
              "BlueCars_taken_sum         int64\n",
              "BlueCars_returned_sum      int64\n",
              "Utilib_taken_sum           int64\n",
              "Utilib_returned_sum        int64\n",
              "Utilib_14_taken_sum        int64\n",
              "Utilib_14_returned_sum     int64\n",
              "Slots_freed_sum            int64\n",
              "Slots_taken_sum            int64\n",
              "dtype: object"
            ]
          },
          "metadata": {},
          "execution_count": 9
        }
      ]
    },
    {
      "cell_type": "code",
      "metadata": {
        "colab": {
          "base_uri": "https://localhost:8080/"
        },
        "id": "BRL4BlaAUIeb",
        "outputId": "dcf1945d-52a2-4edb-c60a-49e87ba00dae"
      },
      "source": [
        "# Converting date column from string to a datetime \n",
        "autolib['date'] = pd.to_datetime(autolib['date'], format= '%m/%d/%Y')\n",
        "\n",
        "# Checking if it worked\n",
        "autolib['date'].dtypes"
      ],
      "execution_count": 10,
      "outputs": [
        {
          "output_type": "execute_result",
          "data": {
            "text/plain": [
              "dtype('<M8[ns]')"
            ]
          },
          "metadata": {},
          "execution_count": 10
        }
      ]
    },
    {
      "cell_type": "code",
      "metadata": {
        "id": "zCD7MInXD9IV"
      },
      "source": [
        ""
      ],
      "execution_count": 14,
      "outputs": []
    },
    {
      "cell_type": "markdown",
      "metadata": {
        "id": "_tjuxBuZEcHi"
      },
      "source": [
        "# 1.4 Exploratory data analysis"
      ]
    },
    {
      "cell_type": "markdown",
      "metadata": {
        "id": "h95CD0_8Eob3"
      },
      "source": [
        "## 1.4.1 Univariate"
      ]
    },
    {
      "cell_type": "code",
      "metadata": {
        "colab": {
          "base_uri": "https://localhost:8080/",
          "height": 309
        },
        "id": "Yvk85-EaEkYd",
        "outputId": "7a7b5198-0608-4380-996a-99c844f1e94d"
      },
      "source": [
        "# Grouping by date to find the sum of cars taken each day from all postal codes\n",
        "autolib_date = autolib.groupby(['date']).sum().iloc[:, 3:].reset_index()\n",
        "autolib_date.head()"
      ],
      "execution_count": 15,
      "outputs": [
        {
          "output_type": "execute_result",
          "data": {
            "text/html": [
              "<div>\n",
              "<style scoped>\n",
              "    .dataframe tbody tr th:only-of-type {\n",
              "        vertical-align: middle;\n",
              "    }\n",
              "\n",
              "    .dataframe tbody tr th {\n",
              "        vertical-align: top;\n",
              "    }\n",
              "\n",
              "    .dataframe thead th {\n",
              "        text-align: right;\n",
              "    }\n",
              "</style>\n",
              "<table border=\"1\" class=\"dataframe\">\n",
              "  <thead>\n",
              "    <tr style=\"text-align: right;\">\n",
              "      <th></th>\n",
              "      <th>date</th>\n",
              "      <th>BlueCars_taken_sum</th>\n",
              "      <th>BlueCars_returned_sum</th>\n",
              "      <th>Utilib_taken_sum</th>\n",
              "      <th>Utilib_returned_sum</th>\n",
              "      <th>Utilib_14_taken_sum</th>\n",
              "      <th>Utilib_14_returned_sum</th>\n",
              "      <th>Slots_freed_sum</th>\n",
              "      <th>Slots_taken_sum</th>\n",
              "    </tr>\n",
              "  </thead>\n",
              "  <tbody>\n",
              "    <tr>\n",
              "      <th>0</th>\n",
              "      <td>2018-01-01</td>\n",
              "      <td>12281</td>\n",
              "      <td>12281</td>\n",
              "      <td>372</td>\n",
              "      <td>370</td>\n",
              "      <td>874</td>\n",
              "      <td>856</td>\n",
              "      <td>1964</td>\n",
              "      <td>1951</td>\n",
              "    </tr>\n",
              "    <tr>\n",
              "      <th>1</th>\n",
              "      <td>2018-01-02</td>\n",
              "      <td>10038</td>\n",
              "      <td>9962</td>\n",
              "      <td>280</td>\n",
              "      <td>276</td>\n",
              "      <td>656</td>\n",
              "      <td>661</td>\n",
              "      <td>1627</td>\n",
              "      <td>1643</td>\n",
              "    </tr>\n",
              "    <tr>\n",
              "      <th>2</th>\n",
              "      <td>2018-01-03</td>\n",
              "      <td>11460</td>\n",
              "      <td>11419</td>\n",
              "      <td>322</td>\n",
              "      <td>331</td>\n",
              "      <td>708</td>\n",
              "      <td>706</td>\n",
              "      <td>1852</td>\n",
              "      <td>1838</td>\n",
              "    </tr>\n",
              "    <tr>\n",
              "      <th>3</th>\n",
              "      <td>2018-01-04</td>\n",
              "      <td>10157</td>\n",
              "      <td>10130</td>\n",
              "      <td>280</td>\n",
              "      <td>291</td>\n",
              "      <td>646</td>\n",
              "      <td>649</td>\n",
              "      <td>1659</td>\n",
              "      <td>1667</td>\n",
              "    </tr>\n",
              "    <tr>\n",
              "      <th>4</th>\n",
              "      <td>2018-01-05</td>\n",
              "      <td>12259</td>\n",
              "      <td>12187</td>\n",
              "      <td>372</td>\n",
              "      <td>378</td>\n",
              "      <td>843</td>\n",
              "      <td>842</td>\n",
              "      <td>2085</td>\n",
              "      <td>2060</td>\n",
              "    </tr>\n",
              "  </tbody>\n",
              "</table>\n",
              "</div>"
            ],
            "text/plain": [
              "        date  BlueCars_taken_sum  ...  Slots_freed_sum  Slots_taken_sum\n",
              "0 2018-01-01               12281  ...             1964             1951\n",
              "1 2018-01-02               10038  ...             1627             1643\n",
              "2 2018-01-03               11460  ...             1852             1838\n",
              "3 2018-01-04               10157  ...             1659             1667\n",
              "4 2018-01-05               12259  ...             2085             2060\n",
              "\n",
              "[5 rows x 9 columns]"
            ]
          },
          "metadata": {},
          "execution_count": 15
        }
      ]
    },
    {
      "cell_type": "code",
      "metadata": {
        "colab": {
          "base_uri": "https://localhost:8080/",
          "height": 335
        },
        "id": "TmVIpe6vvr2a",
        "outputId": "b8a76021-212c-4e2c-eea3-1ca75daa8567"
      },
      "source": [
        "# Creating a histogram\n",
        "plt.figure(figsize=(20, 5))\n",
        "# Creating our bins\n",
        "bins = []\n",
        "for x in range(0, 20001, 2500):\n",
        "  bins.append(x)\n",
        "sns.histplot(data=autolib_date, x='BlueCars_taken_sum', bins=bins)\n",
        "plt.show()"
      ],
      "execution_count": 25,
      "outputs": [
        {
          "output_type": "display_data",
          "data": {
            "image/png": "[encoded data removed]",
            "text/plain": [
              "<Figure size 1440x360 with 1 Axes>"
            ]
          },
          "metadata": {
            "needs_background": "light"
          }
        }
      ]
    },
    {
      "cell_type": "markdown",
      "metadata": {
        "id": "pohhTjtjjHz3"
      },
      "source": [
        "In most days, 10,000 to 12,500 blue cars were taken "
      ]
    },
    {
      "cell_type": "code",
      "metadata": {
        "colab": {
          "base_uri": "https://localhost:8080/",
          "height": 321
        },
        "id": "NzaahBw5iho_",
        "outputId": "f13c97e8-1218-4768-9ee0-3a3854940990"
      },
      "source": [
        "# Creating a boxplot\n",
        "plt.figure(figsize=(20, 5))\n",
        "autolib_date.boxplot(['BlueCars_taken_sum'])\n",
        "plt.show()"
      ],
      "execution_count": 26,
      "outputs": [
        {
          "output_type": "display_data",
          "data": {
            "image/png": "[encoded data removed]",
            "text/plain": [
              "<Figure size 1440x360 with 1 Axes>"
            ]
          },
          "metadata": {
            "needs_background": "light"
          }
        }
      ]
    },
    {
      "cell_type": "markdown",
      "metadata": {
        "id": "TiWlyt2Z4Xsj"
      },
      "source": [
        "The median of blue cars taken in a day was about 12,500"
      ]
    },
    {
      "cell_type": "markdown",
      "metadata": {
        "id": "xHUGApjzMG6N"
      },
      "source": [
        "## 1.4.2 Bivariate"
      ]
    },
    {
      "cell_type": "code",
      "metadata": {
        "colab": {
          "base_uri": "https://localhost:8080/",
          "height": 390
        },
        "id": "nloCeP4EkbdU",
        "outputId": "070af642-21d4-4cd7-da84-ca15dffef669"
      },
      "source": [
        "plt.figure(figsize=(12, 6))\n",
        "plt.plot(autolib_date['date'], autolib_date['BlueCars_taken_sum'])\n",
        "plt.title(\"Blue cars taken daily\")\n",
        "plt.grid(True)\n",
        "plt.show()"
      ],
      "execution_count": 23,
      "outputs": [
        {
          "output_type": "display_data",
          "data": {
            "image/png": "[encoded data removed]",
            "text/plain": [
              "<Figure size 864x432 with 1 Axes>"
            ]
          },
          "metadata": {
            "needs_background": "light"
          }
        }
      ]
    },
    {
      "cell_type": "code",
      "metadata": {
        "colab": {
          "base_uri": "https://localhost:8080/",
          "height": 296
        },
        "id": "ya0Ge28tW8GT",
        "outputId": "ab32481d-2566-408f-a6b8-1718662cfe25"
      },
      "source": [
        "autolib['day'] = autolib['date'].dt.strftime('%A')\n",
        "autolib_day = autolib.groupby('day', as_index=False).sum()\n",
        "sns.barplot(x='day', y='BlueCars_taken_sum', data=autolib_day)\n",
        "plt.figure(figsize=(6,20))\n",
        "plt.show()"
      ],
      "execution_count": 69,
      "outputs": [
        {
          "output_type": "display_data",
          "data": {
            "image/png": "[encoded data removed]",
            "text/plain": [
              "<Figure size 432x288 with 1 Axes>"
            ]
          },
          "metadata": {
            "needs_background": "light"
          }
        },
        {
          "output_type": "display_data",
          "data": {
            "text/plain": [
              "<Figure size 432x1440 with 0 Axes>"
            ]
          },
          "metadata": {}
        }
      ]
    },
    {
      "cell_type": "markdown",
      "metadata": {
        "id": "-9PYy2vu-nIs"
      },
      "source": [
        "Saturday is our busiest day "
      ]
    },
    {
      "cell_type": "markdown",
      "metadata": {
        "id": "r1Si2aaC_r4o"
      },
      "source": [
        "# 1.5 Hypothesis testing"
      ]
    },
    {
      "cell_type": "markdown",
      "metadata": {
        "id": "wbcvEnmeIZrB"
      },
      "source": [
        "Is there a statistically significant difference in blue cars taken in postal codes 75015 and 75016 on weekends?\n",
        "\n",
        "H0: There is no significant difference between the mean number of blue cars taken in 75015 and 75016 on weekends\n",
        "\n",
        "H1: There is significant difference between the mean number of blue cars taken in 75015 and 75016 on weekends\n",
        " \n",
        "We will conduct an independent two sample t test to find out"
      ]
    },
    {
      "cell_type": "code",
      "metadata": {
        "id": "GJsg2j--TqQG"
      },
      "source": [
        "# Splitting our data into two groups: 75015 and 75016\n",
        "x = autolib[(autolib['Postal code'] == 75015) & (autolib['day_type'] == 'weekend')]\n",
        "y = autolib[(autolib['Postal code'] == 75016) & (autolib['day_type'] == 'weekend')]"
      ],
      "execution_count": 43,
      "outputs": []
    },
    {
      "cell_type": "code",
      "metadata": {
        "colab": {
          "base_uri": "https://localhost:8080/"
        },
        "id": "ALhMLjCDU531",
        "outputId": "adea7514-867f-46b7-d9e0-a5791f63dea9"
      },
      "source": [
        "# Finding out the number of records in x and y\n",
        "print(x.shape, y.shape)"
      ],
      "execution_count": 44,
      "outputs": [
        {
          "output_type": "stream",
          "name": "stdout",
          "text": [
            "(44, 14) (44, 14)\n"
          ]
        }
      ]
    },
    {
      "cell_type": "code",
      "metadata": {
        "id": "QK0FaNx0eFzC"
      },
      "source": [
        "# To conduct an independent sample t test some assumptions need to be met\n",
        "# The first being that the two groups are independent which is true in our case because the number of blue cars taken in one location is unrelated to\n",
        "# the number of blue cars taken in another location\n",
        "#\n",
        "# The second assumption is that there are no significant outliers \n",
        "# Creating a function to detect and deal with outliers\n",
        "def outlier(df, column):\n",
        "    threshold=3\n",
        "    mean_1 = np.mean(df[column])\n",
        "    std_1 =np.std(df[column])\n",
        "    \n",
        "    for y in df[column]:\n",
        "        z_score= (y - mean_1)/std_1 \n",
        "        if np.abs(z_score) > threshold:\n",
        "            df = df[df[column] != y]\n",
        "    return df"
      ],
      "execution_count": 45,
      "outputs": []
    },
    {
      "cell_type": "code",
      "metadata": {
        "colab": {
          "base_uri": "https://localhost:8080/"
        },
        "id": "aikFc7huecIG",
        "outputId": "7414dd31-ff22-4097-d50c-d29100652517"
      },
      "source": [
        "x = outlier(x, 'BlueCars_taken_sum')\n",
        "x.shape"
      ],
      "execution_count": 46,
      "outputs": [
        {
          "output_type": "execute_result",
          "data": {
            "text/plain": [
              "(43, 14)"
            ]
          },
          "metadata": {},
          "execution_count": 46
        }
      ]
    },
    {
      "cell_type": "code",
      "metadata": {
        "colab": {
          "base_uri": "https://localhost:8080/"
        },
        "id": "G9mnFhJznGoX",
        "outputId": "af89014e-18a1-43ae-9392-3a6c68124739"
      },
      "source": [
        "y = outlier(y, 'BlueCars_taken_sum')\n",
        "y.shape"
      ],
      "execution_count": 47,
      "outputs": [
        {
          "output_type": "execute_result",
          "data": {
            "text/plain": [
              "(43, 14)"
            ]
          },
          "metadata": {},
          "execution_count": 47
        }
      ]
    },
    {
      "cell_type": "code",
      "metadata": {
        "colab": {
          "base_uri": "https://localhost:8080/",
          "height": 295
        },
        "id": "fJOADuQBorOf",
        "outputId": "403a01b2-03ec-478d-b2ac-47c42afc515d"
      },
      "source": [
        "# The third assumption is that the data for each group should be approximately normally distributed\n",
        "# We will draw q-q plot to find out\n",
        "stats.probplot(x['BlueCars_taken_sum'], plot= plt)\n",
        "plt.title('P-P Plot') \n",
        "plt.show()"
      ],
      "execution_count": 51,
      "outputs": [
        {
          "output_type": "display_data",
          "data": {
            "image/png": "[encoded data removed]",
            "text/plain": [
              "<Figure size 432x288 with 1 Axes>"
            ]
          },
          "metadata": {
            "needs_background": "light"
          }
        }
      ]
    },
    {
      "cell_type": "code",
      "metadata": {
        "colab": {
          "base_uri": "https://localhost:8080/",
          "height": 295
        },
        "id": "5UlN1bhsquee",
        "outputId": "e4cfaca2-47d9-405c-cabf-695d52d4c37d"
      },
      "source": [
        "stats.probplot(y['BlueCars_taken_sum'], plot= plt)\n",
        "plt.title('P-P Plot') \n",
        "plt.show()"
      ],
      "execution_count": 52,
      "outputs": [
        {
          "output_type": "display_data",
          "data": {
            "image/png": "[encoded data removed]",
            "text/plain": [
              "<Figure size 432x288 with 1 Axes>"
            ]
          },
          "metadata": {
            "needs_background": "light"
          }
        }
      ]
    },
    {
      "cell_type": "markdown",
      "metadata": {
        "id": "8NgFu33RDv44"
      },
      "source": [
        "Majority of points in both x and y are more or less along the red line therefore we can conclude that the number of blue cars taken is randomly distributed."
      ]
    },
    {
      "cell_type": "code",
      "metadata": {
        "colab": {
          "base_uri": "https://localhost:8080/"
        },
        "id": "LZjKeBNArcNh",
        "outputId": "a2266f2c-d9d6-433e-c5ff-d6d077d8fbf5"
      },
      "source": [
        "# Conducting the independent sample t test\n",
        "test_statistic, p_value = stats.ttest_ind(x['BlueCars_taken_sum'], y['BlueCars_taken_sum'])\n",
        "print(test_statistic, p_value)"
      ],
      "execution_count": 54,
      "outputs": [
        {
          "output_type": "stream",
          "name": "stdout",
          "text": [
            "6.742245001228171 1.8501867639353618e-09\n"
          ]
        }
      ]
    },
    {
      "cell_type": "markdown",
      "metadata": {
        "id": "oiEOyMIBEKIz"
      },
      "source": [
        "Our p value is small therefore we reject the null hypothesis"
      ]
    },
    {
      "cell_type": "markdown",
      "metadata": {
        "id": "EsNAKNp41dKp"
      },
      "source": [
        "# 1.6 Point Estimation"
      ]
    },
    {
      "cell_type": "markdown",
      "metadata": {
        "id": "Z_90WJC31ngX"
      },
      "source": [
        "Our parameters of interest are mean number of blue cars taken in 75015 and 75016 on weekends as well as the their difference"
      ]
    },
    {
      "cell_type": "code",
      "metadata": {
        "colab": {
          "base_uri": "https://localhost:8080/"
        },
        "id": "Y-H5AlYf1i-9",
        "outputId": "bd56be04-7706-4c5e-a059-497432d223ab"
      },
      "source": [
        "# Mean number of blue cars taken in 75015 on weekends\n",
        "mean_x = x['BlueCars_taken_sum'].mean()\n",
        "mean_x"
      ],
      "execution_count": 59,
      "outputs": [
        {
          "output_type": "execute_result",
          "data": {
            "text/plain": [
              "1096.3720930232557"
            ]
          },
          "metadata": {},
          "execution_count": 59
        }
      ]
    },
    {
      "cell_type": "code",
      "metadata": {
        "colab": {
          "base_uri": "https://localhost:8080/"
        },
        "id": "yso3IEVT1cfA",
        "outputId": "5416e31b-3857-48c0-e665-31d48a121483"
      },
      "source": [
        "# Mean number of blue cars taken in 75016 on weekends\n",
        "mean_y = y['BlueCars_taken_sum'].mean()\n",
        "mean_y"
      ],
      "execution_count": 60,
      "outputs": [
        {
          "output_type": "execute_result",
          "data": {
            "text/plain": [
              "905.7906976744187"
            ]
          },
          "metadata": {},
          "execution_count": 60
        }
      ]
    },
    {
      "cell_type": "code",
      "metadata": {
        "colab": {
          "base_uri": "https://localhost:8080/"
        },
        "id": "L8AMXY-92oZF",
        "outputId": "4beafbed-f2c5-4b25-e65e-43611b51a837"
      },
      "source": [
        "# Difference in the means of the number of blue cars\n",
        "diff = mean_x - mean_y\n",
        "diff"
      ],
      "execution_count": 61,
      "outputs": [
        {
          "output_type": "execute_result",
          "data": {
            "text/plain": [
              "190.58139534883708"
            ]
          },
          "metadata": {},
          "execution_count": 61
        }
      ]
    },
    {
      "cell_type": "markdown",
      "metadata": {
        "id": "DLI0M3AP2-0_"
      },
      "source": [
        "# 1.7 Interval estimation"
      ]
    },
    {
      "cell_type": "code",
      "metadata": {
        "colab": {
          "base_uri": "https://localhost:8080/"
        },
        "id": "bX7MrQBR3Can",
        "outputId": "ee6f4938-8505-4f52-e398-34bcf2972ff9"
      },
      "source": [
        "# 95% confidence interval of the mean number of blue cars taken in 75015 on weekends\n",
        "# Finding the standard error of the mean of data \n",
        "std_error_x = x['BlueCars_taken_sum'].std() / np.sqrt(x.shape[0])\n",
        "\n",
        "# Finding the confidence interval\n",
        "stats.t.interval(alpha=0.05, df=(x.shape[0] -1), loc=mean_x, scale=std_error_x)"
      ],
      "execution_count": 62,
      "outputs": [
        {
          "output_type": "execute_result",
          "data": {
            "text/plain": [
              "(1094.9818011469563, 1097.7623848995552)"
            ]
          },
          "metadata": {},
          "execution_count": 62
        }
      ]
    },
    {
      "cell_type": "code",
      "metadata": {
        "colab": {
          "base_uri": "https://localhost:8080/"
        },
        "id": "lzwGlnD06gQ9",
        "outputId": "ff6b4e19-c35b-4c29-e744-9e2eebe7932b"
      },
      "source": [
        "# 95% confidence interval of the mean number of blue cars taken in 75016 on weekends\n",
        "# Finding the standard error of the mean of data \n",
        "std_error_y = y['BlueCars_taken_sum'].std() / np.sqrt(y.shape[0])\n",
        "\n",
        "# Finding the confidence interval\n",
        "stats.t.interval(alpha=0.05, df=(x.shape[0] -1), loc=mean_y, scale=std_error_y)"
      ],
      "execution_count": 63,
      "outputs": [
        {
          "output_type": "execute_result",
          "data": {
            "text/plain": [
              "(904.674150060075, 906.9072452887623)"
            ]
          },
          "metadata": {},
          "execution_count": 63
        }
      ]
    }
  ]
}